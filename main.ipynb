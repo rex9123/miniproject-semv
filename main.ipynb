{
 "cells": [
  {
   "cell_type": "code",
   "execution_count": null,
   "metadata": {},
   "outputs": [],
   "source": [
    "import pandas as pd\n",
    "import numpy as np\n",
    "from datetime import datetime"
   ]
  },
  {
   "cell_type": "code",
   "execution_count": null,
   "metadata": {},
   "outputs": [],
   "source": [
    "df = pd.read_csv('C:/Users/maria/Downloads/archive/bigBasket.csv')"
   ]
  },
  {
   "cell_type": "code",
   "execution_count": null,
   "metadata": {},
   "outputs": [],
   "source": [
    "print(df)"
   ]
  },
  {
   "cell_type": "code",
   "execution_count": 27,
   "metadata": {},
   "outputs": [
    {
     "data": {
      "text/html": [
       "<div>\n",
       "<style scoped>\n",
       "    .dataframe tbody tr th:only-of-type {\n",
       "        vertical-align: middle;\n",
       "    }\n",
       "\n",
       "    .dataframe tbody tr th {\n",
       "        vertical-align: top;\n",
       "    }\n",
       "\n",
       "    .dataframe thead th {\n",
       "        text-align: right;\n",
       "    }\n",
       "</style>\n",
       "<table border=\"1\" class=\"dataframe\">\n",
       "  <thead>\n",
       "    <tr style=\"text-align: right;\">\n",
       "      <th></th>\n",
       "      <th>Member</th>\n",
       "      <th>Order</th>\n",
       "      <th>SKU</th>\n",
       "      <th>Created On</th>\n",
       "      <th>Description</th>\n",
       "    </tr>\n",
       "  </thead>\n",
       "  <tbody>\n",
       "    <tr>\n",
       "      <th>0</th>\n",
       "      <td>M09736</td>\n",
       "      <td>6468572</td>\n",
       "      <td>34993740</td>\n",
       "      <td>41904.94792</td>\n",
       "      <td>Other Sauces</td>\n",
       "    </tr>\n",
       "    <tr>\n",
       "      <th>1</th>\n",
       "      <td>M09736</td>\n",
       "      <td>6468572</td>\n",
       "      <td>15669800</td>\n",
       "      <td>41904.94792</td>\n",
       "      <td>Cashews</td>\n",
       "    </tr>\n",
       "    <tr>\n",
       "      <th>2</th>\n",
       "      <td>M09736</td>\n",
       "      <td>6468572</td>\n",
       "      <td>34989501</td>\n",
       "      <td>41904.94792</td>\n",
       "      <td>Other Dals</td>\n",
       "    </tr>\n",
       "    <tr>\n",
       "      <th>3</th>\n",
       "      <td>M09736</td>\n",
       "      <td>6468572</td>\n",
       "      <td>7572303</td>\n",
       "      <td>41904.94792</td>\n",
       "      <td>Namkeen</td>\n",
       "    </tr>\n",
       "    <tr>\n",
       "      <th>4</th>\n",
       "      <td>M09736</td>\n",
       "      <td>6468572</td>\n",
       "      <td>15669856</td>\n",
       "      <td>41904.94792</td>\n",
       "      <td>Sugar</td>\n",
       "    </tr>\n",
       "    <tr>\n",
       "      <th>5</th>\n",
       "      <td>M09736</td>\n",
       "      <td>6468572</td>\n",
       "      <td>15668478</td>\n",
       "      <td>41904.94792</td>\n",
       "      <td>Banana</td>\n",
       "    </tr>\n",
       "  </tbody>\n",
       "</table>\n",
       "</div>"
      ],
      "text/plain": [
       "   Member    Order       SKU   Created On   Description\n",
       "0  M09736  6468572  34993740  41904.94792  Other Sauces\n",
       "1  M09736  6468572  15669800  41904.94792       Cashews\n",
       "2  M09736  6468572  34989501  41904.94792    Other Dals\n",
       "3  M09736  6468572   7572303  41904.94792       Namkeen\n",
       "4  M09736  6468572  15669856  41904.94792         Sugar\n",
       "5  M09736  6468572  15668478  41904.94792        Banana"
      ]
     },
     "execution_count": 27,
     "metadata": {},
     "output_type": "execute_result"
    }
   ],
   "source": [
    "df.head(6)"
   ]
  },
  {
   "cell_type": "code",
   "execution_count": 28,
   "metadata": {},
   "outputs": [
    {
     "data": {
      "text/plain": [
       "SKU\n",
       "15668381    1702\n",
       "15668688    1540\n",
       "15668460    1439\n",
       "15668379    1415\n",
       "15668478    1252\n",
       "            ... \n",
       "34994247       1\n",
       "34934321       1\n",
       "34992292       1\n",
       "34930814       1\n",
       "34990383       1\n",
       "Name: count, Length: 1732, dtype: int64"
      ]
     },
     "execution_count": 28,
     "metadata": {},
     "output_type": "execute_result"
    }
   ],
   "source": [
    "df.SKU.value_counts()"
   ]
  },
  {
   "cell_type": "code",
   "execution_count": 29,
   "metadata": {},
   "outputs": [
    {
     "data": {
      "text/plain": [
       "Member         object\n",
       "Order           int64\n",
       "SKU             int64\n",
       "Created On     object\n",
       "Description    object\n",
       "dtype: object"
      ]
     },
     "execution_count": 29,
     "metadata": {},
     "output_type": "execute_result"
    }
   ],
   "source": [
    "df.dtypes"
   ]
  },
  {
   "cell_type": "code",
   "execution_count": 32,
   "metadata": {},
   "outputs": [
    {
     "data": {
      "text/html": [
       "<div>\n",
       "<style scoped>\n",
       "    .dataframe tbody tr th:only-of-type {\n",
       "        vertical-align: middle;\n",
       "    }\n",
       "\n",
       "    .dataframe tbody tr th {\n",
       "        vertical-align: top;\n",
       "    }\n",
       "\n",
       "    .dataframe thead th {\n",
       "        text-align: right;\n",
       "    }\n",
       "</style>\n",
       "<table border=\"1\" class=\"dataframe\">\n",
       "  <thead>\n",
       "    <tr style=\"text-align: right;\">\n",
       "      <th></th>\n",
       "      <th>Member</th>\n",
       "      <th>Order</th>\n",
       "      <th>SKU</th>\n",
       "      <th>Created On</th>\n",
       "      <th>Description</th>\n",
       "    </tr>\n",
       "  </thead>\n",
       "  <tbody>\n",
       "    <tr>\n",
       "      <th>0</th>\n",
       "      <td>M09736</td>\n",
       "      <td>1970-01-01 00:00:00.006468572</td>\n",
       "      <td>34993740</td>\n",
       "      <td>41904.94792</td>\n",
       "      <td>Other Sauces</td>\n",
       "    </tr>\n",
       "    <tr>\n",
       "      <th>1</th>\n",
       "      <td>M09736</td>\n",
       "      <td>1970-01-01 00:00:00.006468572</td>\n",
       "      <td>15669800</td>\n",
       "      <td>41904.94792</td>\n",
       "      <td>Cashews</td>\n",
       "    </tr>\n",
       "    <tr>\n",
       "      <th>2</th>\n",
       "      <td>M09736</td>\n",
       "      <td>1970-01-01 00:00:00.006468572</td>\n",
       "      <td>34989501</td>\n",
       "      <td>41904.94792</td>\n",
       "      <td>Other Dals</td>\n",
       "    </tr>\n",
       "    <tr>\n",
       "      <th>3</th>\n",
       "      <td>M09736</td>\n",
       "      <td>1970-01-01 00:00:00.006468572</td>\n",
       "      <td>7572303</td>\n",
       "      <td>41904.94792</td>\n",
       "      <td>Namkeen</td>\n",
       "    </tr>\n",
       "    <tr>\n",
       "      <th>4</th>\n",
       "      <td>M09736</td>\n",
       "      <td>1970-01-01 00:00:00.006468572</td>\n",
       "      <td>15669856</td>\n",
       "      <td>41904.94792</td>\n",
       "      <td>Sugar</td>\n",
       "    </tr>\n",
       "  </tbody>\n",
       "</table>\n",
       "</div>"
      ],
      "text/plain": [
       "   Member                         Order       SKU   Created On   Description\n",
       "0  M09736 1970-01-01 00:00:00.006468572  34993740  41904.94792  Other Sauces\n",
       "1  M09736 1970-01-01 00:00:00.006468572  15669800  41904.94792       Cashews\n",
       "2  M09736 1970-01-01 00:00:00.006468572  34989501  41904.94792    Other Dals\n",
       "3  M09736 1970-01-01 00:00:00.006468572   7572303  41904.94792       Namkeen\n",
       "4  M09736 1970-01-01 00:00:00.006468572  15669856  41904.94792         Sugar"
      ]
     },
     "execution_count": 32,
     "metadata": {},
     "output_type": "execute_result"
    }
   ],
   "source": [
    "df[\"Order\"] = pd.to_datetime(df[\"Order\"])\n",
    "df.head(5)"
   ]
  }
 ],
 "metadata": {
  "kernelspec": {
   "display_name": "Python 3",
   "language": "python",
   "name": "python3"
  },
  "language_info": {
   "codemirror_mode": {
    "name": "ipython",
    "version": 3
   },
   "file_extension": ".py",
   "mimetype": "text/x-python",
   "name": "python",
   "nbconvert_exporter": "python",
   "pygments_lexer": "ipython3",
   "version": "3.11.4"
  },
  "orig_nbformat": 4
 },
 "nbformat": 4,
 "nbformat_minor": 2
}
