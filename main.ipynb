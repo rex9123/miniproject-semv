{
 "cells": [
  {
   "cell_type": "code",
   "execution_count": 3,
   "metadata": {},
   "outputs": [],
   "source": [
    "import pandas as pd\n",
    "import numpy as np\n",
    "import matplotlib.pyplot as mtp"
   ]
  },
  {
   "cell_type": "code",
   "execution_count": 4,
   "metadata": {},
   "outputs": [],
   "source": [
    "df = pd.read_csv('C:/Users/maria/Downloads/Netflix Userbase.csv')"
   ]
  },
  {
   "cell_type": "code",
   "execution_count": 5,
   "metadata": {},
   "outputs": [
    {
     "name": "stdout",
     "output_type": "stream",
     "text": [
      "      User ID Subscription Type  Monthly Revenue  Join Date Last Payment Date  \\\n",
      "0           1             Basic               10  1/15/2022         6/10/2023   \n",
      "1           2           Premium               15   9/5/2021         6/22/2023   \n",
      "2           3          Standard               12  2/28/2023         6/27/2023   \n",
      "3           4          Standard               12  7/10/2022         6/26/2023   \n",
      "4           5             Basic               10   5/1/2023         6/28/2023   \n",
      "...       ...               ...              ...        ...               ...   \n",
      "2495     2496           Premium               14  7/25/2022         7/12/2023   \n",
      "2496     2497             Basic               15   8/4/2022         7/14/2023   \n",
      "2497     2498          Standard               12   8/9/2022         7/15/2023   \n",
      "2498     2499          Standard               13  8/12/2022         7/12/2023   \n",
      "2499     2500             Basic               15  8/13/2022         7/12/2023   \n",
      "\n",
      "             Country  Age  Gender      Device Plan Duration  \n",
      "0      United States   28    Male  Smartphone       1 Month  \n",
      "1             Canada   35  Female      Tablet       1 Month  \n",
      "2     United Kingdom   42    Male    Smart TV       1 Month  \n",
      "3          Australia   51  Female      Laptop       1 Month  \n",
      "4            Germany   33    Male  Smartphone       1 Month  \n",
      "...              ...  ...     ...         ...           ...  \n",
      "2495           Spain   28  Female    Smart TV       1 Month  \n",
      "2496           Spain   33  Female    Smart TV       1 Month  \n",
      "2497   United States   38    Male      Laptop       1 Month  \n",
      "2498          Canada   48  Female      Tablet       1 Month  \n",
      "2499   United States   35  Female    Smart TV       1 Month  \n",
      "\n",
      "[2500 rows x 10 columns]\n"
     ]
    }
   ],
   "source": [
    "print(df)"
   ]
  },
  {
   "cell_type": "code",
   "execution_count": 7,
   "metadata": {},
   "outputs": [],
   "source": [
    "x=df.iloc[:,[7]].values "
   ]
  },
  {
   "cell_type": "code",
   "execution_count": null,
   "metadata": {},
   "outputs": [],
   "source": []
  }
 ],
 "metadata": {
  "kernelspec": {
   "display_name": "Python 3",
   "language": "python",
   "name": "python3"
  },
  "language_info": {
   "codemirror_mode": {
    "name": "ipython",
    "version": 3
   },
   "file_extension": ".py",
   "mimetype": "text/x-python",
   "name": "python",
   "nbconvert_exporter": "python",
   "pygments_lexer": "ipython3",
   "version": "3.11.4"
  },
  "orig_nbformat": 4
 },
 "nbformat": 4,
 "nbformat_minor": 2
}
